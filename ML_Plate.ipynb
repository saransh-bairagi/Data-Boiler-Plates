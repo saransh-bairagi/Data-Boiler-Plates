{
 "cells": [
  {
   "cell_type": "code",
   "execution_count": 3,
   "id": "ab051a31-3094-438e-abae-5ded97881dfb",
   "metadata": {},
   "outputs": [],
   "source": [
    "import os\n",
    "p=\"sasd\""
   ]
  },
  {
   "cell_type": "code",
   "execution_count": 13,
   "id": "3f778e4c-3946-4910-98c2-da4241bd403f",
   "metadata": {},
   "outputs": [],
   "source": [
    "directory = os.path.join(os.getcwd(),\"Editedcsv\")\n",
    "\n",
    "# Check if the directory exists\n",
    "if not os.path.exists(directory):\n",
    "    # Create the directory if it doesn't exist\n",
    "    os.makedirs(directory)"
   ]
  },
  {
   "cell_type": "code",
   "execution_count": null,
   "id": "0e532f1d-8415-4117-b70e-bfe9403dcea0",
   "metadata": {},
   "outputs": [],
   "source": []
  }
 ],
 "metadata": {
  "kernelspec": {
   "display_name": "Python 3 (ipykernel)",
   "language": "python",
   "name": "python3"
  },
  "language_info": {
   "codemirror_mode": {
    "name": "ipython",
    "version": 3
   },
   "file_extension": ".py",
   "mimetype": "text/x-python",
   "name": "python",
   "nbconvert_exporter": "python",
   "pygments_lexer": "ipython3",
   "version": "3.11.6"
  }
 },
 "nbformat": 4,
 "nbformat_minor": 5
}
